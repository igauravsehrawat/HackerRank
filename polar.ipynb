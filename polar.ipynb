{
 "metadata": {
  "name": ""
 },
 "nbformat": 3,
 "nbformat_minor": 0,
 "worksheets": [
  {
   "cells": [
    {
     "cell_type": "code",
     "collapsed": false,
     "input": [
      "# Enter your code here. Read input from STDIN. Print output to STDOUT\n",
      "from math import hypot, atan2, pi\n",
      "def polar(x, y):      \n",
      "    k = 180.0 * atan2(y, x) / pi\n",
      "    if k<0: k+=360\n",
      "    return  k,hypot(x, y)\n",
      "  \n",
      "n = int(raw_input())\n",
      "ans1 = []\n",
      "ans = []\n",
      "for i in range(n):\n",
      "    x,y = map(int,raw_input().split())\n",
      "    ans.append([x,y])\n",
      "    ans1.append(polar(x,y))\n",
      "   #print polar(3,5)\n",
      "#****FILL THE MISSING LINE HERE****\n",
      "ind = ans1.sort()\n",
      "for i in ind:\n",
      "    print ans[i][0],ans[i][1]\n",
      "    # Enter your code here. Read input from STDIN. Print output to STDOUT\n"
     ],
     "language": "python",
     "metadata": {},
     "outputs": [
      {
       "name": "stdout",
       "output_type": "stream",
       "stream": "stdout",
       "text": [
        "5\n"
       ]
      },
      {
       "name": "stdout",
       "output_type": "stream",
       "stream": "stdout",
       "text": [
        "1 2\n"
       ]
      },
      {
       "name": "stdout",
       "output_type": "stream",
       "stream": "stdout",
       "text": [
        "2 1\n"
       ]
      },
      {
       "name": "stdout",
       "output_type": "stream",
       "stream": "stdout",
       "text": [
        "4 5\n"
       ]
      },
      {
       "name": "stdout",
       "output_type": "stream",
       "stream": "stdout",
       "text": [
        "20 -20\n"
       ]
      },
      {
       "name": "stdout",
       "output_type": "stream",
       "stream": "stdout",
       "text": [
        "30 -30\n"
       ]
      },
      {
       "ename": "TypeError",
       "evalue": "'NoneType' object is not iterable",
       "output_type": "pyerr",
       "traceback": [
        "\u001b[0;31m---------------------------------------------------------------------------\u001b[0m\n\u001b[0;31mTypeError\u001b[0m                                 Traceback (most recent call last)",
        "\u001b[0;32m<ipython-input-1-64c822589922>\u001b[0m in \u001b[0;36m<module>\u001b[0;34m()\u001b[0m\n\u001b[1;32m     16\u001b[0m \u001b[0;31m#****FILL THE MISSING LINE HERE****\u001b[0m\u001b[0;34m\u001b[0m\u001b[0;34m\u001b[0m\u001b[0m\n\u001b[1;32m     17\u001b[0m \u001b[0mind\u001b[0m \u001b[0;34m=\u001b[0m \u001b[0mans1\u001b[0m\u001b[0;34m.\u001b[0m\u001b[0msort\u001b[0m\u001b[0;34m(\u001b[0m\u001b[0;34m)\u001b[0m\u001b[0;34m\u001b[0m\u001b[0m\n\u001b[0;32m---> 18\u001b[0;31m \u001b[0;32mfor\u001b[0m \u001b[0mi\u001b[0m \u001b[0;32min\u001b[0m \u001b[0mind\u001b[0m\u001b[0;34m:\u001b[0m\u001b[0;34m\u001b[0m\u001b[0m\n\u001b[0m\u001b[1;32m     19\u001b[0m     \u001b[0;32mprint\u001b[0m \u001b[0mans\u001b[0m\u001b[0;34m[\u001b[0m\u001b[0mi\u001b[0m\u001b[0;34m]\u001b[0m\u001b[0;34m[\u001b[0m\u001b[0;36m0\u001b[0m\u001b[0;34m]\u001b[0m\u001b[0;34m,\u001b[0m\u001b[0mans\u001b[0m\u001b[0;34m[\u001b[0m\u001b[0mi\u001b[0m\u001b[0;34m]\u001b[0m\u001b[0;34m[\u001b[0m\u001b[0;36m1\u001b[0m\u001b[0;34m]\u001b[0m\u001b[0;34m\u001b[0m\u001b[0m\n\u001b[1;32m     20\u001b[0m     \u001b[0;31m# Enter your code here. Read input from STDIN. Print output to STDOUT\u001b[0m\u001b[0;34m\u001b[0m\u001b[0;34m\u001b[0m\u001b[0m\n",
        "\u001b[0;31mTypeError\u001b[0m: 'NoneType' object is not iterable"
       ]
      }
     ],
     "prompt_number": 1
    },
    {
     "cell_type": "code",
     "collapsed": false,
     "input": [
      "sorted(ans1, key=lambda tup: tup[0])"
     ],
     "language": "python",
     "metadata": {},
     "outputs": [
      {
       "metadata": {},
       "output_type": "pyout",
       "prompt_number": 18,
       "text": [
        "[(26.56505117707799, 2.23606797749979),\n",
        " (51.34019174590991, 6.4031242374328485),\n",
        " (63.43494882292201, 2.23606797749979),\n",
        " (315.0, 28.284271247461902),\n",
        " (315.0, 42.42640687119285)]"
       ]
      }
     ],
     "prompt_number": 18
    },
    {
     "cell_type": "code",
     "collapsed": false,
     "input": [
      "ind = sorted(ans1, key=lambda tup: tup[0])\n",
      "for i in ind:\n",
      "    print ans[i][0],ans[i][1]"
     ],
     "language": "python",
     "metadata": {},
     "outputs": [
      {
       "ename": "TypeError",
       "evalue": "list indices must be integers, not tuple",
       "output_type": "pyerr",
       "traceback": [
        "\u001b[0;31m---------------------------------------------------------------------------\u001b[0m\n\u001b[0;31mTypeError\u001b[0m                                 Traceback (most recent call last)",
        "\u001b[0;32m<ipython-input-21-7cfe0d17718d>\u001b[0m in \u001b[0;36m<module>\u001b[0;34m()\u001b[0m\n\u001b[1;32m      1\u001b[0m \u001b[0mind\u001b[0m \u001b[0;34m=\u001b[0m \u001b[0msorted\u001b[0m\u001b[0;34m(\u001b[0m\u001b[0mans1\u001b[0m\u001b[0;34m,\u001b[0m \u001b[0mkey\u001b[0m\u001b[0;34m=\u001b[0m\u001b[0;32mlambda\u001b[0m \u001b[0mtup\u001b[0m\u001b[0;34m:\u001b[0m \u001b[0mtup\u001b[0m\u001b[0;34m[\u001b[0m\u001b[0;36m0\u001b[0m\u001b[0;34m]\u001b[0m\u001b[0;34m)\u001b[0m\u001b[0;34m\u001b[0m\u001b[0m\n\u001b[1;32m      2\u001b[0m \u001b[0;32mfor\u001b[0m \u001b[0mi\u001b[0m \u001b[0;32min\u001b[0m \u001b[0mind\u001b[0m\u001b[0;34m:\u001b[0m\u001b[0;34m\u001b[0m\u001b[0m\n\u001b[0;32m----> 3\u001b[0;31m     \u001b[0;32mprint\u001b[0m \u001b[0mans\u001b[0m\u001b[0;34m[\u001b[0m\u001b[0mi\u001b[0m\u001b[0;34m]\u001b[0m\u001b[0;34m[\u001b[0m\u001b[0;36m0\u001b[0m\u001b[0;34m]\u001b[0m\u001b[0;34m,\u001b[0m\u001b[0mans\u001b[0m\u001b[0;34m[\u001b[0m\u001b[0mi\u001b[0m\u001b[0;34m]\u001b[0m\u001b[0;34m[\u001b[0m\u001b[0;36m1\u001b[0m\u001b[0;34m]\u001b[0m\u001b[0;34m\u001b[0m\u001b[0m\n\u001b[0m",
        "\u001b[0;31mTypeError\u001b[0m: list indices must be integers, not tuple"
       ]
      }
     ],
     "prompt_number": 21
    },
    {
     "cell_type": "code",
     "collapsed": false,
     "input": [
      "ind"
     ],
     "language": "python",
     "metadata": {},
     "outputs": [
      {
       "metadata": {},
       "output_type": "pyout",
       "prompt_number": 22,
       "text": [
        "[(26.56505117707799, 2.23606797749979),\n",
        " (51.34019174590991, 6.4031242374328485),\n",
        " (63.43494882292201, 2.23606797749979),\n",
        " (315.0, 28.284271247461902),\n",
        " (315.0, 42.42640687119285)]"
       ]
      }
     ],
     "prompt_number": 22
    },
    {
     "cell_type": "code",
     "collapsed": false,
     "input": [
      "ind[0][1]"
     ],
     "language": "python",
     "metadata": {},
     "outputs": [
      {
       "metadata": {},
       "output_type": "pyout",
       "prompt_number": 24,
       "text": [
        "2.23606797749979"
       ]
      }
     ],
     "prompt_number": 24
    },
    {
     "cell_type": "code",
     "collapsed": false,
     "input": [
      "# Enter your code here. Read input from STDIN. Print output to STDOUT\n",
      "from math import hypot, atan2, pi\n",
      "def polar(x, y):      \n",
      "    k = 180.0 * atan2(y, x) / pi\n",
      "    if k<0: k+=360\n",
      "    return  k,hypot(x, y)\n",
      "  \n",
      "n = int(raw_input())\n",
      "ans1 = []\n",
      "ans = []\n",
      "for i in range(n):\n",
      "    x,y = map(int,raw_input().split())\n",
      "    ans.append([x,y])\n",
      "    ans1.append(polar(x,y))\n",
      "#print polar(3,5)\n",
      "ans1.sort(key=lambda tup: tup[0])\n",
      "ind = xrange(0,len(ans1))\n",
      "#****FILL THE MISSING LINE HERE****\n",
      "for i in ind:\n",
      "    print ans[i][0],ans[i][1]\n",
      "    print ans1[i][0],ans1[i][1]\n",
      "    # Enter your code here. Read input from STDIN. Print output to STDOUT\n"
     ],
     "language": "python",
     "metadata": {},
     "outputs": [
      {
       "name": "stdout",
       "output_type": "stream",
       "stream": "stdout",
       "text": [
        "5\n"
       ]
      },
      {
       "name": "stdout",
       "output_type": "stream",
       "stream": "stdout",
       "text": [
        "1 2\n"
       ]
      },
      {
       "name": "stdout",
       "output_type": "stream",
       "stream": "stdout",
       "text": [
        "2 1\n"
       ]
      },
      {
       "name": "stdout",
       "output_type": "stream",
       "stream": "stdout",
       "text": [
        "40 30\n"
       ]
      },
      {
       "name": "stdout",
       "output_type": "stream",
       "stream": "stdout",
       "text": [
        "20 50\n"
       ]
      },
      {
       "name": "stdout",
       "output_type": "stream",
       "stream": "stdout",
       "text": [
        "2 4\n"
       ]
      },
      {
       "output_type": "stream",
       "stream": "stdout",
       "text": [
        "1 2\n",
        "26.5650511771 2.2360679775\n",
        "2 1\n",
        "36.8698976458 50.0\n",
        "40 30\n",
        "63.4349488229 2.2360679775\n",
        "20 50\n",
        "63.4349488229 4.472135955\n",
        "2 4\n",
        "68.1985905136 53.8516480713\n"
       ]
      }
     ],
     "prompt_number": 33
    },
    {
     "cell_type": "code",
     "collapsed": false,
     "input": [
      "ind"
     ],
     "language": "python",
     "metadata": {},
     "outputs": [
      {
       "metadata": {},
       "output_type": "pyout",
       "prompt_number": 31,
       "text": [
        "xrange(5)"
       ]
      }
     ],
     "prompt_number": 31
    },
    {
     "cell_type": "code",
     "collapsed": false,
     "input": [
      "xrange(5)"
     ],
     "language": "python",
     "metadata": {},
     "outputs": [
      {
       "metadata": {},
       "output_type": "pyout",
       "prompt_number": 32,
       "text": [
        "xrange(5)"
       ]
      }
     ],
     "prompt_number": 32
    },
    {
     "cell_type": "code",
     "collapsed": false,
     "input": [
      "# Enter your code here. Read input from STDIN. Print output to STDOUT\n",
      "from math import hypot, atan2, pi\n",
      "def polar(x, y):      \n",
      "    k = 180.0 * atan2(y, x) / pi\n",
      "    if k<0: k+=360\n",
      "    return  k,hypot(x, y),x,y\n",
      "  \n",
      "n = int(raw_input())\n",
      "ans1 = []\n",
      "ans2 = []\n",
      "ans = []\n",
      "for i in range(n):\n",
      "    x,y = map(int,raw_input().split())\n",
      "    ans.append([x,y])\n",
      "    ans1.append(polar(x,y))\n",
      "#print polar(3,5)\n",
      "ans2 = ans1\n",
      "ans1 = sorted(ans1, key=lambda tup: (tup[0],tup[1]))\n",
      "ind = xrange(0,n)\n",
      "#****FILL THE MISSING LINE HERE****\n",
      "for i in ind:\n",
      "    print ans1[i][2],ans1[i][3]\n",
      "    # Enter your code here. Read input from STDIN. Print output to STDOUT\n"
     ],
     "language": "python",
     "metadata": {},
     "outputs": [
      {
       "name": "stdout",
       "output_type": "stream",
       "stream": "stdout",
       "text": [
        "5\n"
       ]
      },
      {
       "name": "stdout",
       "output_type": "stream",
       "stream": "stdout",
       "text": [
        "9 0 \n"
       ]
      },
      {
       "name": "stdout",
       "output_type": "stream",
       "stream": "stdout",
       "text": [
        "2 3\n"
       ]
      },
      {
       "name": "stdout",
       "output_type": "stream",
       "stream": "stdout",
       "text": [
        "5 6\n"
       ]
      },
      {
       "name": "stdout",
       "output_type": "stream",
       "stream": "stdout",
       "text": [
        "8 1\n"
       ]
      },
      {
       "name": "stdout",
       "output_type": "stream",
       "stream": "stdout",
       "text": [
        "1 1\n"
       ]
      },
      {
       "output_type": "stream",
       "stream": "stdout",
       "text": [
        "9 0\n",
        "8 1\n",
        "1 1\n",
        "5 6\n",
        "2 3\n"
       ]
      }
     ],
     "prompt_number": 17
    },
    {
     "cell_type": "code",
     "collapsed": false,
     "input": [
      "ans2"
     ],
     "language": "python",
     "metadata": {},
     "outputs": [
      {
       "metadata": {},
       "output_type": "pyout",
       "prompt_number": 18,
       "text": [
        "[(0.0, 9.0, 9, 0),\n",
        " (56.309932474020215, 3.605551275463989, 2, 3),\n",
        " (50.19442890773481, 7.810249675906654, 5, 6),\n",
        " (7.125016348901798, 8.06225774829855, 8, 1),\n",
        " (45.0, 1.4142135623730951, 1, 1)]"
       ]
      }
     ],
     "prompt_number": 18
    },
    {
     "cell_type": "code",
     "collapsed": false,
     "input": [
      "sorted(ans2,key=lambda tup: tup[0])"
     ],
     "language": "python",
     "metadata": {},
     "outputs": [
      {
       "metadata": {},
       "output_type": "pyout",
       "prompt_number": 16,
       "text": [
        "[(50.19442890773481, 7.810249675906654, 5, 6),\n",
        " (52.125016348901795, 11.40175425099138, 7, 9),\n",
        " (53.13010235415598, 5.0, 3, 4),\n",
        " (63.43494882292201, 2.23606797749979, 1, 2),\n",
        " (90.0, 1.0, 0, 1)]"
       ]
      }
     ],
     "prompt_number": 16
    },
    {
     "cell_type": "code",
     "collapsed": false,
     "input": [],
     "language": "python",
     "metadata": {},
     "outputs": []
    }
   ],
   "metadata": {}
  }
 ]
}